{
 "cells": [
  {
   "cell_type": "markdown",
   "metadata": {},
   "source": [
    "### Data Loading and Exploration ###"
   ]
  },
  {
   "cell_type": "code",
   "execution_count": 2,
   "metadata": {},
   "outputs": [],
   "source": [
    "import os\n",
    "os.environ[\"os.environ['CUDA_LAUNCH_BLOCKING\"] = \"1\""
   ]
  },
  {
   "cell_type": "markdown",
   "metadata": {},
   "source": [
    "Below, the data is loaded from the folders Benign and Malignant into the lists images, and labels."
   ]
  },
  {
   "cell_type": "code",
   "execution_count": 3,
   "metadata": {},
   "outputs": [],
   "source": [
    "from PIL import Image\n",
    "import glob\n",
    "\n",
    "data_root = '/Users/seyedmasihzakavi/Desktop/Melanoma_Cancer/data/train'\n",
    "categories = ['Benign', 'Malignant']\n",
    "\n",
    "def load_images(folder):\n",
    "    images, labels = [], []\n",
    "    for category in categories:\n",
    "        image_paths = glob.glob(os.path.join(folder, category, '*.jpg'))\n",
    "        for image_path in image_paths:\n",
    "            image = Image.open(image_path).convert('RGB')\n",
    "            images.append(image)\n",
    "            label = 0.0 if category=='Benign' else 1.0\n",
    "            labels.append(label)\n",
    "    return images, labels\n",
    "\n",
    "\n",
    "all_images, all_labels = load_images(data_root)"
   ]
  },
  {
   "cell_type": "markdown",
   "metadata": {},
   "source": [
    "To make sure the network doesn't overfit to the training data, a validation dataset is created, separate from the test dataset to be used for early stopping. The data is split between training-validation-testing, 60%-20%-20% and stratified on labels to ensure that the balance between the two classes doesn't change between each of the three datasets. "
   ]
  },
  {
   "cell_type": "code",
   "execution_count": 4,
   "metadata": {},
   "outputs": [],
   "source": [
    "from sklearn.model_selection import train_test_split\n",
    "\n",
    "dev_images, test_images, dev_labels, test_labels = train_test_split(\n",
    "all_images, all_labels, test_size=0.2, random_state=42, stratify=all_labels, shuffle=True)\n",
    "\n",
    "train_images, val_images, train_labels, val_labels = train_test_split(\n",
    "dev_images, dev_labels, test_size=0.25, random_state=42, stratify=dev_labels, shuffle=True)"
   ]
  },
  {
   "cell_type": "markdown",
   "metadata": {},
   "source": [
    "### Data Augmentation ###"
   ]
  },
  {
   "cell_type": "markdown",
   "metadata": {},
   "source": [
    "Two different image transforms are created, one for the training data, and antoher one for the validation and test data. These are key to learning a robust classifier since the images in the dataset are from different angles and with different illumination. The test_transform transforms the image to a PyTorch Tensor and normalizes values. This transform is applied to the test and validation data to make sure the training and testing data are standardized in the same way. The train_transform randomly flips and rotates the image before transforming it into a PyTorch Tensor and normalizing it."
   ]
  },
  {
   "cell_type": "code",
   "execution_count": 5,
   "metadata": {},
   "outputs": [],
   "source": [
    "from torchvision import transforms, datasets\n",
    "\n",
    "train_transform = transforms.Compose([\n",
    "    transforms.RandomRotation(30),\n",
    "    transforms.RandomVerticalFlip(p=0.2),\n",
    "    transforms.RandomHorizontalFlip(p=0.2),\n",
    "    transforms.ToTensor(),\n",
    "    transforms.Normalize(mean=[0.485, 0.456, 0.406], std=[0.229, 0.224, 0.225])\n",
    "])\n",
    "\n",
    "test_transform = transforms.Compose([\n",
    "    transforms.ToTensor(),\n",
    "    transforms.Normalize(mean=[0.485, 0.456, 0.406], std=[0.229, 0.224, 0.225])\n",
    "])"
   ]
  },
  {
   "cell_type": "markdown",
   "metadata": {},
   "source": [
    "Below, the transformations are applied to all the images in the datasets and the results are saved as a .pth file for later use"
   ]
  },
  {
   "cell_type": "code",
   "execution_count": 6,
   "metadata": {},
   "outputs": [],
   "source": [
    "import torch\n",
    "\n",
    "save_folder = '/Users/seyedmasihzakavi/Desktop/Melanoma_Cancer/torch_files'\n",
    "\n",
    "def build_dataset(data, labels, transform, data_file, label_file):\n",
    "    images = []\n",
    "    for i in range(len(data)):\n",
    "        img = transform(data[i])\n",
    "        images.append(img)\n",
    "    torch_images = torch.stack(images)\n",
    "    torch_labels = torch.tensor(labels)\n",
    "    torch.save(torch_images, os.path.join(save_folder, data_file))\n",
    "    torch.save(torch_labels, os.path.join(save_folder, label_file))\n",
    "\n",
    "build_dataset(train_images, train_labels, train_transform, 'train_data.pth', 'train_labels.pth')\n",
    "build_dataset(val_images, val_labels, test_transform, 'val_data.pth', 'val_labels.pth')\n",
    "build_dataset(test_images, test_labels, test_transform, 'test_data.pth', 'test_labels.pth')"
   ]
  },
  {
   "cell_type": "markdown",
   "metadata": {},
   "source": [
    "The PyTorch files are loaded, and used to create the training, validation, and test DataLoaders with a Batch size of 128. This large batch size ensures that the updates are consistent and always useful. To ensure proper randomization in the training data, the training loader is shuffled, whereas the validation and test are not since the model can't update gradients with those"
   ]
  },
  {
   "cell_type": "code",
   "execution_count": 7,
   "metadata": {},
   "outputs": [],
   "source": [
    "from torch.utils.data import TensorDataset, DataLoader\n",
    "\n",
    "train_data = torch.load(os.path.join(save_folder, 'train_data.pth'))\n",
    "train_labels = torch.load(os.path.join(save_folder, 'train_labels.pth'))\n",
    "val_data = torch.load(os.path.join(save_folder, 'val_data.pth'))\n",
    "val_labels = torch.load(os.path.join(save_folder, 'val_labels.pth'))\n",
    "test_data = torch.load(os.path.join(save_folder, 'test_data.pth'))\n",
    "test_labels = torch.load(os.path.join(save_folder, 'test_labels.pth'))\n",
    "\n",
    "train_dataset = TensorDataset(train_data, train_labels)\n",
    "val_dataset = TensorDataset(val_data, val_labels)\n",
    "test_dataset = TensorDataset(test_data, test_labels)\n",
    "\n",
    "batch_size = 128\n",
    "train_loader = DataLoader(train_dataset, batch_size=batch_size, shuffle=True, num_workers=4)\n",
    "val_loader = DataLoader(val_dataset, batch_size=batch_size, shuffle=False, num_workers=4)\n",
    "test_loader = DataLoader(test_dataset, batch_size=batch_size, shuffle=False, num_workers=4)"
   ]
  },
  {
   "cell_type": "markdown",
   "metadata": {},
   "source": [
    "### Defining the Model and Training Parameters ###"
   ]
  },
  {
   "cell_type": "markdown",
   "metadata": {},
   "source": [
    "The architecture of ResNet-18 is adopted for classification with ImageNet initialization weights. The classifier head is removed and replaced with a 3-layer feedforward network with ReLU activation. There is also dropout in the classifier head to further discourage overfitting to training data. "
   ]
  },
  {
   "cell_type": "code",
   "execution_count": 25,
   "metadata": {},
   "outputs": [
    {
     "name": "stdout",
     "output_type": "stream",
     "text": [
      "ResNet(\n",
      "  (conv1): Conv2d(3, 64, kernel_size=(7, 7), stride=(2, 2), padding=(3, 3), bias=False)\n",
      "  (bn1): BatchNorm2d(64, eps=1e-05, momentum=0.1, affine=True, track_running_stats=True)\n",
      "  (relu): ReLU(inplace=True)\n",
      "  (maxpool): MaxPool2d(kernel_size=3, stride=2, padding=1, dilation=1, ceil_mode=False)\n",
      "  (layer1): Sequential(\n",
      "    (0): BasicBlock(\n",
      "      (conv1): Conv2d(64, 64, kernel_size=(3, 3), stride=(1, 1), padding=(1, 1), bias=False)\n",
      "      (bn1): BatchNorm2d(64, eps=1e-05, momentum=0.1, affine=True, track_running_stats=True)\n",
      "      (relu): ReLU(inplace=True)\n",
      "      (conv2): Conv2d(64, 64, kernel_size=(3, 3), stride=(1, 1), padding=(1, 1), bias=False)\n",
      "      (bn2): BatchNorm2d(64, eps=1e-05, momentum=0.1, affine=True, track_running_stats=True)\n",
      "    )\n",
      "    (1): BasicBlock(\n",
      "      (conv1): Conv2d(64, 64, kernel_size=(3, 3), stride=(1, 1), padding=(1, 1), bias=False)\n",
      "      (bn1): BatchNorm2d(64, eps=1e-05, momentum=0.1, affine=True, track_running_stats=True)\n",
      "      (relu): ReLU(inplace=True)\n",
      "      (conv2): Conv2d(64, 64, kernel_size=(3, 3), stride=(1, 1), padding=(1, 1), bias=False)\n",
      "      (bn2): BatchNorm2d(64, eps=1e-05, momentum=0.1, affine=True, track_running_stats=True)\n",
      "    )\n",
      "  )\n",
      "  (layer2): Sequential(\n",
      "    (0): BasicBlock(\n",
      "      (conv1): Conv2d(64, 128, kernel_size=(3, 3), stride=(2, 2), padding=(1, 1), bias=False)\n",
      "      (bn1): BatchNorm2d(128, eps=1e-05, momentum=0.1, affine=True, track_running_stats=True)\n",
      "      (relu): ReLU(inplace=True)\n",
      "      (conv2): Conv2d(128, 128, kernel_size=(3, 3), stride=(1, 1), padding=(1, 1), bias=False)\n",
      "      (bn2): BatchNorm2d(128, eps=1e-05, momentum=0.1, affine=True, track_running_stats=True)\n",
      "      (downsample): Sequential(\n",
      "        (0): Conv2d(64, 128, kernel_size=(1, 1), stride=(2, 2), bias=False)\n",
      "        (1): BatchNorm2d(128, eps=1e-05, momentum=0.1, affine=True, track_running_stats=True)\n",
      "      )\n",
      "    )\n",
      "    (1): BasicBlock(\n",
      "      (conv1): Conv2d(128, 128, kernel_size=(3, 3), stride=(1, 1), padding=(1, 1), bias=False)\n",
      "      (bn1): BatchNorm2d(128, eps=1e-05, momentum=0.1, affine=True, track_running_stats=True)\n",
      "      (relu): ReLU(inplace=True)\n",
      "      (conv2): Conv2d(128, 128, kernel_size=(3, 3), stride=(1, 1), padding=(1, 1), bias=False)\n",
      "      (bn2): BatchNorm2d(128, eps=1e-05, momentum=0.1, affine=True, track_running_stats=True)\n",
      "    )\n",
      "  )\n",
      "  (layer3): Sequential(\n",
      "    (0): BasicBlock(\n",
      "      (conv1): Conv2d(128, 256, kernel_size=(3, 3), stride=(2, 2), padding=(1, 1), bias=False)\n",
      "      (bn1): BatchNorm2d(256, eps=1e-05, momentum=0.1, affine=True, track_running_stats=True)\n",
      "      (relu): ReLU(inplace=True)\n",
      "      (conv2): Conv2d(256, 256, kernel_size=(3, 3), stride=(1, 1), padding=(1, 1), bias=False)\n",
      "      (bn2): BatchNorm2d(256, eps=1e-05, momentum=0.1, affine=True, track_running_stats=True)\n",
      "      (downsample): Sequential(\n",
      "        (0): Conv2d(128, 256, kernel_size=(1, 1), stride=(2, 2), bias=False)\n",
      "        (1): BatchNorm2d(256, eps=1e-05, momentum=0.1, affine=True, track_running_stats=True)\n",
      "      )\n",
      "    )\n",
      "    (1): BasicBlock(\n",
      "      (conv1): Conv2d(256, 256, kernel_size=(3, 3), stride=(1, 1), padding=(1, 1), bias=False)\n",
      "      (bn1): BatchNorm2d(256, eps=1e-05, momentum=0.1, affine=True, track_running_stats=True)\n",
      "      (relu): ReLU(inplace=True)\n",
      "      (conv2): Conv2d(256, 256, kernel_size=(3, 3), stride=(1, 1), padding=(1, 1), bias=False)\n",
      "      (bn2): BatchNorm2d(256, eps=1e-05, momentum=0.1, affine=True, track_running_stats=True)\n",
      "    )\n",
      "  )\n",
      "  (layer4): Sequential(\n",
      "    (0): BasicBlock(\n",
      "      (conv1): Conv2d(256, 512, kernel_size=(3, 3), stride=(2, 2), padding=(1, 1), bias=False)\n",
      "      (bn1): BatchNorm2d(512, eps=1e-05, momentum=0.1, affine=True, track_running_stats=True)\n",
      "      (relu): ReLU(inplace=True)\n",
      "      (conv2): Conv2d(512, 512, kernel_size=(3, 3), stride=(1, 1), padding=(1, 1), bias=False)\n",
      "      (bn2): BatchNorm2d(512, eps=1e-05, momentum=0.1, affine=True, track_running_stats=True)\n",
      "      (downsample): Sequential(\n",
      "        (0): Conv2d(256, 512, kernel_size=(1, 1), stride=(2, 2), bias=False)\n",
      "        (1): BatchNorm2d(512, eps=1e-05, momentum=0.1, affine=True, track_running_stats=True)\n",
      "      )\n",
      "    )\n",
      "    (1): BasicBlock(\n",
      "      (conv1): Conv2d(512, 512, kernel_size=(3, 3), stride=(1, 1), padding=(1, 1), bias=False)\n",
      "      (bn1): BatchNorm2d(512, eps=1e-05, momentum=0.1, affine=True, track_running_stats=True)\n",
      "      (relu): ReLU(inplace=True)\n",
      "      (conv2): Conv2d(512, 512, kernel_size=(3, 3), stride=(1, 1), padding=(1, 1), bias=False)\n",
      "      (bn2): BatchNorm2d(512, eps=1e-05, momentum=0.1, affine=True, track_running_stats=True)\n",
      "    )\n",
      "  )\n",
      "  (avgpool): AdaptiveAvgPool2d(output_size=(1, 1))\n",
      "  (fc): Sequential(\n",
      "    (0): Linear(in_features=512, out_features=256, bias=True)\n",
      "    (1): ReLU()\n",
      "    (2): Dropout(p=0.25, inplace=False)\n",
      "    (3): Linear(in_features=256, out_features=32, bias=True)\n",
      "    (4): ReLU()\n",
      "    (5): Dropout(p=0.25, inplace=False)\n",
      "    (6): Linear(in_features=32, out_features=1, bias=True)\n",
      "  )\n",
      ")\n"
     ]
    }
   ],
   "source": [
    "import torch.nn as nn\n",
    "from torchvision import models\n",
    "\n",
    "model = models.resnet18(weights=models.ResNet18_Weights.IMAGENET1K_V1)\n",
    "\n",
    "num_features = model.fc.in_features\n",
    "\n",
    "model.fc = nn.Sequential(\n",
    "    nn.Linear(num_features, 256),\n",
    "    nn.ReLU(),\n",
    "    nn.Dropout(0.25),\n",
    "    nn.Linear(256, 32),\n",
    "    nn.ReLU(),\n",
    "    nn.Dropout(0.25),\n",
    "    nn.Linear(32, 1)\n",
    ")\n",
    "\n",
    "print(model)"
   ]
  },
  {
   "cell_type": "markdown",
   "metadata": {},
   "source": [
    "The definition of the optimizer is key to the training procedure. Note that four groups of parameters are defined: \n",
    "\n",
    "1) Those in the added dense layers are trained with a large learning rate of 0.01 since they are randomly initialized and need plenty of training\n",
    "2) Parameters of the layer4 which is the last group of Convolutions, Batch Normalization, Dropout, and Dense layer parts. These have a learning rate of 0.001, since they extract the highest level features and they need training, though their initialization is still not random like 1). \n",
    "3) Parameters of layer3, which is the penultimate group of convolutions, Batch Normalizations, and Dense parts. Similar to 2), these are not random and are set to 0.001\n",
    "4) The rest of the parameters which have the learning rate set to 0.0001. This rate applies to the earliest convolution layers which extract low level features and so need the least amount of change to work well on the new dataset"
   ]
  },
  {
   "cell_type": "code",
   "execution_count": 9,
   "metadata": {},
   "outputs": [],
   "source": [
    "import torch.optim as optim\n",
    "\n",
    "criterion = nn.BCEWithLogitsLoss()\n",
    "\n",
    "optimizer = optim.Adam([{'params': [p for p in model.fc.parameters()], 'lr': 1e-2},\n",
    "                {'params': [p for p in model.layer4.parameters()], 'lr':1e-3},\n",
    "                {'params': [p for p in model.layer3.parameters()], 'lr':1e-3}\n",
    "                ], lr=1e-4)"
   ]
  },
  {
   "cell_type": "markdown",
   "metadata": {},
   "source": [
    "### Training ###"
   ]
  },
  {
   "cell_type": "markdown",
   "metadata": {},
   "source": [
    "Below is the training loop. Note that the model and data is moved to MPS for acceleration on the Apple M2 Chip. In each epoch, the model runs through the training data and updates the gradients, runs through the validation data and performance is evaluated. Two additional features to note are the checkpointing and early stopping. The model saves the model weights of the model with lowest validation loss during each epoch. For early stopping, there is a patience counter of 10 epochs. If validation loss fails to improve in 10 epochs, training is stopped. Finaly, after training is done, the optimal weights are saved and loaded to variable model."
   ]
  },
  {
   "cell_type": "code",
   "execution_count": 10,
   "metadata": {},
   "outputs": [
    {
     "name": "stdout",
     "output_type": "stream",
     "text": [
      "Epoch 1/50\n",
      "--------------------------------------------------\n",
      "Training Loss: 0.5565, Training Accuracy: 0.7257\n",
      "Validation Loss: 0.4416, Validation Accuracy: 0.7967\n",
      "\n",
      "Epoch 2/50\n",
      "--------------------------------------------------\n",
      "Training Loss: 0.3792, Training Accuracy: 0.8235\n",
      "Validation Loss: 0.3755, Validation Accuracy: 0.8308\n",
      "\n",
      "Epoch 3/50\n",
      "--------------------------------------------------\n",
      "Training Loss: 0.3537, Training Accuracy: 0.8389\n",
      "Validation Loss: 0.3447, Validation Accuracy: 0.8451\n",
      "\n",
      "Epoch 4/50\n",
      "--------------------------------------------------\n",
      "Training Loss: 0.3342, Training Accuracy: 0.8569\n",
      "Validation Loss: 0.3615, Validation Accuracy: 0.8312\n",
      "\n",
      "No improvement in Validation Loss for 1 Epochs.\n",
      "\n",
      "Epoch 5/50\n",
      "--------------------------------------------------\n",
      "Training Loss: 0.3237, Training Accuracy: 0.8588\n",
      "Validation Loss: 0.3594, Validation Accuracy: 0.8443\n",
      "\n",
      "No improvement in Validation Loss for 2 Epochs.\n",
      "\n",
      "Epoch 6/50\n",
      "--------------------------------------------------\n",
      "Training Loss: 0.3094, Training Accuracy: 0.8635\n",
      "Validation Loss: 0.3869, Validation Accuracy: 0.8312\n",
      "\n",
      "No improvement in Validation Loss for 3 Epochs.\n",
      "\n",
      "Epoch 7/50\n",
      "--------------------------------------------------\n",
      "Training Loss: 0.3012, Training Accuracy: 0.8701\n",
      "Validation Loss: 0.3891, Validation Accuracy: 0.8249\n",
      "\n",
      "No improvement in Validation Loss for 4 Epochs.\n",
      "\n",
      "Epoch 8/50\n",
      "--------------------------------------------------\n",
      "Training Loss: 0.2849, Training Accuracy: 0.8800\n",
      "Validation Loss: 0.3784, Validation Accuracy: 0.8316\n",
      "\n",
      "No improvement in Validation Loss for 5 Epochs.\n",
      "\n",
      "Epoch 9/50\n",
      "--------------------------------------------------\n",
      "Training Loss: 0.2714, Training Accuracy: 0.8837\n",
      "Validation Loss: 0.3868, Validation Accuracy: 0.8287\n",
      "\n",
      "No improvement in Validation Loss for 6 Epochs.\n",
      "\n",
      "Epoch 10/50\n",
      "--------------------------------------------------\n",
      "Training Loss: 0.2619, Training Accuracy: 0.8872\n",
      "Validation Loss: 0.4279, Validation Accuracy: 0.8232\n",
      "\n",
      "No improvement in Validation Loss for 7 Epochs.\n",
      "\n",
      "Epoch 11/50\n",
      "--------------------------------------------------\n",
      "Training Loss: 0.2121, Training Accuracy: 0.9143\n",
      "Validation Loss: 0.4170, Validation Accuracy: 0.8464\n",
      "\n",
      "No improvement in Validation Loss for 8 Epochs.\n",
      "\n",
      "Epoch 12/50\n",
      "--------------------------------------------------\n",
      "Training Loss: 0.2023, Training Accuracy: 0.9252\n",
      "Validation Loss: 0.4027, Validation Accuracy: 0.8249\n",
      "\n",
      "No improvement in Validation Loss for 9 Epochs.\n",
      "\n",
      "Epoch 13/50\n",
      "--------------------------------------------------\n",
      "Training Loss: 0.1623, Training Accuracy: 0.9385\n",
      "Validation Loss: 0.4554, Validation Accuracy: 0.8194\n",
      "\n",
      "No improvement in Validation Loss for 10 Epochs.\n",
      "\n",
      "Early Stopping Triggered.\n"
     ]
    },
    {
     "data": {
      "text/plain": [
       "<All keys matched successfully>"
      ]
     },
     "execution_count": 10,
     "metadata": {},
     "output_type": "execute_result"
    }
   ],
   "source": [
    "import numpy as np\n",
    "import copy\n",
    "\n",
    "train_losses = []\n",
    "val_losses = []\n",
    "train_accuracies = []\n",
    "val_accuracies = []\n",
    "\n",
    "best_loss = float('inf')\n",
    "best_model_wts = copy.deepcopy(model.state_dict())\n",
    "early_stopping_counter = 0\n",
    "unfreeze_epoch_interval = 5\n",
    "layer_counter = 4\n",
    "\n",
    "num_epochs = 50\n",
    "patience = 10\n",
    "\n",
    "torch.mps.empty_cache()\n",
    "device = torch.device(\"mps\" if torch.backends.mps.is_available() else \"cpu\")\n",
    "model.to(device)\n",
    "\n",
    "for epoch in range(num_epochs):\n",
    "\n",
    "    running_corrects = 0\n",
    "    running_loss = 0\n",
    "\n",
    "    print(f'Epoch {epoch+1}/{num_epochs}')\n",
    "    print('-' * 50)\n",
    "\n",
    "    for inputs, labels in train_loader:\n",
    "        inputs, labels = inputs.to(device), labels.to(device)\n",
    "\n",
    "        optimizer.zero_grad()\n",
    "\n",
    "        outputs = model(inputs)\n",
    "        preds = torch.sigmoid(outputs) > 0.5\n",
    "        loss = criterion(outputs, labels.unsqueeze(1).float())\n",
    "\n",
    "        loss.backward()\n",
    "        optimizer.step()\n",
    "\n",
    "        running_loss += loss.item() * inputs.size(0)\n",
    "        running_corrects += torch.sum(preds.squeeze().int() == labels)\n",
    "\n",
    "    train_loss = running_loss / len(train_loader.dataset)\n",
    "    train_acc = running_corrects / len(train_loader.dataset)\n",
    "    train_losses.append(train_loss)\n",
    "    train_accuracies.append(train_acc.item())\n",
    "\n",
    "    print(f'Training Loss: {train_loss:.4f}, Training Accuracy: {train_acc:.4f}')\n",
    "    \n",
    "    running_corrects = 0\n",
    "    running_loss = 0\n",
    "\n",
    "    for inputs, labels in val_loader:\n",
    "        inputs, labels = inputs.to(device), labels.to(device)\n",
    "\n",
    "        optimizer.zero_grad()\n",
    "\n",
    "        with torch.no_grad():\n",
    "            outputs = model(inputs)\n",
    "            preds = torch.sigmoid(outputs) > 0.5\n",
    "            loss = criterion(outputs, labels.unsqueeze(1).float())\n",
    "\n",
    "        running_loss += loss.item() * inputs.size(0)\n",
    "        running_corrects += torch.sum(preds.squeeze().int() == labels)\n",
    "\n",
    "    val_loss = running_loss / len(val_loader.dataset)\n",
    "    val_acc = running_corrects / len(val_loader.dataset)\n",
    "    val_losses.append(val_loss)\n",
    "    val_accuracies.append(val_acc.item())\n",
    "\n",
    "    print(f'Validation Loss: {val_loss:.4f}, Validation Accuracy: {val_acc:.4f}\\n')\n",
    "    \n",
    "    if val_loss < best_loss:\n",
    "        best_loss = val_loss\n",
    "        best_model_wts = copy.deepcopy(model.state_dict())\n",
    "        early_stopping_counter = 0\n",
    "    else:\n",
    "        early_stopping_counter += 1\n",
    "        print(f\"No improvement in Validation Loss for {early_stopping_counter} Epochs.\\n\")\n",
    "        if early_stopping_counter >= patience:\n",
    "            print(\"Early Stopping Triggered.\")\n",
    "            break\n",
    "\n",
    "\n",
    "torch.save(best_model_wts, 'weights.pth')\n",
    "model.load_state_dict(best_model_wts)"
   ]
  },
  {
   "cell_type": "markdown",
   "metadata": {},
   "source": [
    "### Evaluation of Results ###"
   ]
  },
  {
   "cell_type": "markdown",
   "metadata": {},
   "source": [
    "Below, the accuracy of the model is evaluated on the test loader. The model achieves over 83% accuracy on the test loader, which far exceeds a random classifier or a majority classifier. "
   ]
  },
  {
   "cell_type": "code",
   "execution_count": 11,
   "metadata": {},
   "outputs": [
    {
     "name": "stdout",
     "output_type": "stream",
     "text": [
      "Test Accuracy is 0.8312\n"
     ]
    }
   ],
   "source": [
    "running_corrects = 0\n",
    "\n",
    "for inputs, labels in test_loader:\n",
    "    inputs, labels = inputs.to(device), labels.to(device)\n",
    "\n",
    "    optimizer.zero_grad()\n",
    "\n",
    "    with torch.no_grad():\n",
    "        outputs = model(inputs)\n",
    "        preds = torch.sigmoid(outputs) > 0.5\n",
    "        running_corrects += torch.sum(preds == labels.unsqueeze(1).data)\n",
    "\n",
    "test_acc = running_corrects / len(test_loader.dataset)\n",
    "print(f\"Test Accuracy is {test_acc:.4f}\")"
   ]
  },
  {
   "cell_type": "markdown",
   "metadata": {},
   "source": [
    "Finally, we can graph the loss and accuracy over epochs for validation and training data. As can be observed, in the first few epochs, both validation and training loss decrease and both validation and training accuracy increase. Later, the training accuracy continues to increase, and the training loss continues to decrease. However, the network is overfitting to the training data in the later epochs because the validation metrics no longer improve.\n",
    "\n",
    "The patience counter and the checkpointing ensures that the model with the best validation loss is saved and restored at the end."
   ]
  },
  {
   "cell_type": "code",
   "execution_count": 12,
   "metadata": {},
   "outputs": [
    {
     "data": {
      "image/png": "[encoded data removed]",
      "text/plain": [
       "<Figure size 1000x500 with 2 Axes>"
      ]
     },
     "metadata": {},
     "output_type": "display_data"
    }
   ],
   "source": [
    "plt.figure(figsize=(10, 5))\n",
    "plt.subplot(1, 2, 1)\n",
    "plt.plot(train_losses, label='Training Loss')\n",
    "plt.plot(val_losses, label='Validation Loss')\n",
    "plt.legend()\n",
    "plt.title('Loss over epochs')\n",
    "plt.subplot(1, 2, 2)\n",
    "plt.plot(train_accuracies, label='Training Accuracy')\n",
    "plt.plot(val_accuracies, label='Validation Accuracy')\n",
    "plt.legend()\n",
    "plt.title('Accuracy over epochs')\n",
    "plt.show()"
   ]
  }
 ],
 "metadata": {
  "kernelspec": {
   "display_name": "Python 3",
   "language": "python",
   "name": "python3"
  },
  "language_info": {
   "codemirror_mode": {
    "name": "ipython",
    "version": 3
   },
   "file_extension": ".py",
   "mimetype": "text/x-python",
   "name": "python",
   "nbconvert_exporter": "python",
   "pygments_lexer": "ipython3",
   "version": "3.9.6"
  }
 },
 "nbformat": 4,
 "nbformat_minor": 2
}
